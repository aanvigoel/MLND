{
 "cells": [
  {
   "cell_type": "code",
   "execution_count": 1,
   "metadata": {},
   "outputs": [
    {
     "name": "stderr",
     "output_type": "stream",
     "text": [
      "Using TensorFlow backend.\n"
     ]
    },
    {
     "name": "stdout",
     "output_type": "stream",
     "text": [
      "WARNING:tensorflow:From /home/ec2-user/anaconda3/envs/tensorflow_p36/lib/python3.6/site-packages/tensorflow_core/__init__.py:1467: The name tf.estimator.inputs is deprecated. Please use tf.compat.v1.estimator.inputs instead.\n",
      "\n"
     ]
    }
   ],
   "source": [
    "#Import required libraries/packages\n",
    "\n",
    "import pandas as pd\n",
    "import numpy as np\n",
    "import matplotlib.pyplot as plt\n",
    "import seaborn as sb \n",
    "from sklearn.metrics import confusion_matrix\n",
    "from sklearn.metrics import classification_report\n",
    "from sklearn.metrics import accuracy_score\n",
    "from sklearn.svm import LinearSVC\n",
    "from sklearn.ensemble import RandomForestClassifier\n",
    "from sklearn.tree import DecisionTreeClassifier\n",
    "from keras.models import Sequential\n",
    "from keras.layers import LSTM, Dense, Dropout, Masking, Embedding"
   ]
  },
  {
   "cell_type": "markdown",
   "metadata": {},
   "source": [
    "__1. Preparing the Data__"
   ]
  },
  {
   "cell_type": "code",
   "execution_count": 2,
   "metadata": {},
   "outputs": [],
   "source": [
    "features = list()\n",
    "with open(\"Data/features.txt\") as f:\n",
    "    for line in f:\n",
    "        features.append(line)"
   ]
  },
  {
   "cell_type": "code",
   "execution_count": 3,
   "metadata": {},
   "outputs": [],
   "source": [
    "#Prepare Dataframe with features, subject ID and activity labels\n",
    "def prepare_df(path,df_type):\n",
    "    df = pd.read_csv(path+\"/X_\"+df_type+\".txt\", delim_whitespace = True, names = features)\n",
    "    df[\"Subject_Id\"]= pd.read_csv(path+\"/subject_\"+df_type+\".txt\", header=None)\n",
    "\n",
    "    activity=pd.read_csv(path+\"/y_\"+df_type+\".txt\", header=None, squeeze=True)\n",
    "    df[\"Activity\"] = activity\n",
    "\n",
    "    activity_name = activity.map({1: \"WALKING\", 2:\"WALKING_UPSTAIRS\", 3:\"WALKING_DOWNSTAIRS\", 4:\"SITTING\", 5:\"STANDING\", 6:\"LYING\"})\n",
    "    df[\"Label\"] = activity_name\n",
    "    \n",
    "    df=df.dropna()\n",
    "    return df  "
   ]
  },
  {
   "cell_type": "code",
   "execution_count": 4,
   "metadata": {},
   "outputs": [
    {
     "data": {
      "text/html": [
       "<div>\n",
       "<style scoped>\n",
       "    .dataframe tbody tr th:only-of-type {\n",
       "        vertical-align: middle;\n",
       "    }\n",
       "\n",
       "    .dataframe tbody tr th {\n",
       "        vertical-align: top;\n",
       "    }\n",
       "\n",
       "    .dataframe thead th {\n",
       "        text-align: right;\n",
       "    }\n",
       "</style>\n",
       "<table border=\"1\" class=\"dataframe\">\n",
       "  <thead>\n",
       "    <tr style=\"text-align: right;\">\n",
       "      <th></th>\n",
       "      <th>1 tBodyAcc-mean()-X</th>\n",
       "      <th>2 tBodyAcc-mean()-Y</th>\n",
       "      <th>3 tBodyAcc-mean()-Z</th>\n",
       "      <th>4 tBodyAcc-std()-X</th>\n",
       "      <th>5 tBodyAcc-std()-Y</th>\n",
       "      <th>6 tBodyAcc-std()-Z</th>\n",
       "      <th>7 tBodyAcc-mad()-X</th>\n",
       "      <th>8 tBodyAcc-mad()-Y</th>\n",
       "      <th>9 tBodyAcc-mad()-Z</th>\n",
       "      <th>10 tBodyAcc-max()-X</th>\n",
       "      <th>...</th>\n",
       "      <th>555 angle(tBodyAccMean,gravity)</th>\n",
       "      <th>556 angle(tBodyAccJerkMean),gravityMean)</th>\n",
       "      <th>557 angle(tBodyGyroMean,gravityMean)</th>\n",
       "      <th>558 angle(tBodyGyroJerkMean,gravityMean)</th>\n",
       "      <th>559 angle(X,gravityMean)</th>\n",
       "      <th>560 angle(Y,gravityMean)</th>\n",
       "      <th>561 angle(Z,gravityMean)</th>\n",
       "      <th>Subject_Id</th>\n",
       "      <th>Activity</th>\n",
       "      <th>Label</th>\n",
       "    </tr>\n",
       "  </thead>\n",
       "  <tbody>\n",
       "    <tr>\n",
       "      <th>0</th>\n",
       "      <td>0.288585</td>\n",
       "      <td>-0.020294</td>\n",
       "      <td>-0.132905</td>\n",
       "      <td>-0.995279</td>\n",
       "      <td>-0.983111</td>\n",
       "      <td>-0.913526</td>\n",
       "      <td>-0.995112</td>\n",
       "      <td>-0.983185</td>\n",
       "      <td>-0.923527</td>\n",
       "      <td>-0.934724</td>\n",
       "      <td>...</td>\n",
       "      <td>-0.112754</td>\n",
       "      <td>0.030400</td>\n",
       "      <td>-0.464761</td>\n",
       "      <td>-0.018446</td>\n",
       "      <td>-0.841247</td>\n",
       "      <td>0.179941</td>\n",
       "      <td>-0.058627</td>\n",
       "      <td>1</td>\n",
       "      <td>5</td>\n",
       "      <td>STANDING</td>\n",
       "    </tr>\n",
       "    <tr>\n",
       "      <th>1</th>\n",
       "      <td>0.278419</td>\n",
       "      <td>-0.016411</td>\n",
       "      <td>-0.123520</td>\n",
       "      <td>-0.998245</td>\n",
       "      <td>-0.975300</td>\n",
       "      <td>-0.960322</td>\n",
       "      <td>-0.998807</td>\n",
       "      <td>-0.974914</td>\n",
       "      <td>-0.957686</td>\n",
       "      <td>-0.943068</td>\n",
       "      <td>...</td>\n",
       "      <td>0.053477</td>\n",
       "      <td>-0.007435</td>\n",
       "      <td>-0.732626</td>\n",
       "      <td>0.703511</td>\n",
       "      <td>-0.844788</td>\n",
       "      <td>0.180289</td>\n",
       "      <td>-0.054317</td>\n",
       "      <td>1</td>\n",
       "      <td>5</td>\n",
       "      <td>STANDING</td>\n",
       "    </tr>\n",
       "    <tr>\n",
       "      <th>2</th>\n",
       "      <td>0.279653</td>\n",
       "      <td>-0.019467</td>\n",
       "      <td>-0.113462</td>\n",
       "      <td>-0.995380</td>\n",
       "      <td>-0.967187</td>\n",
       "      <td>-0.978944</td>\n",
       "      <td>-0.996520</td>\n",
       "      <td>-0.963668</td>\n",
       "      <td>-0.977469</td>\n",
       "      <td>-0.938692</td>\n",
       "      <td>...</td>\n",
       "      <td>-0.118559</td>\n",
       "      <td>0.177899</td>\n",
       "      <td>0.100699</td>\n",
       "      <td>0.808529</td>\n",
       "      <td>-0.848933</td>\n",
       "      <td>0.180637</td>\n",
       "      <td>-0.049118</td>\n",
       "      <td>1</td>\n",
       "      <td>5</td>\n",
       "      <td>STANDING</td>\n",
       "    </tr>\n",
       "    <tr>\n",
       "      <th>3</th>\n",
       "      <td>0.279174</td>\n",
       "      <td>-0.026201</td>\n",
       "      <td>-0.123283</td>\n",
       "      <td>-0.996091</td>\n",
       "      <td>-0.983403</td>\n",
       "      <td>-0.990675</td>\n",
       "      <td>-0.997099</td>\n",
       "      <td>-0.982750</td>\n",
       "      <td>-0.989302</td>\n",
       "      <td>-0.938692</td>\n",
       "      <td>...</td>\n",
       "      <td>-0.036788</td>\n",
       "      <td>-0.012892</td>\n",
       "      <td>0.640011</td>\n",
       "      <td>-0.485366</td>\n",
       "      <td>-0.848649</td>\n",
       "      <td>0.181935</td>\n",
       "      <td>-0.047663</td>\n",
       "      <td>1</td>\n",
       "      <td>5</td>\n",
       "      <td>STANDING</td>\n",
       "    </tr>\n",
       "    <tr>\n",
       "      <th>4</th>\n",
       "      <td>0.276629</td>\n",
       "      <td>-0.016570</td>\n",
       "      <td>-0.115362</td>\n",
       "      <td>-0.998139</td>\n",
       "      <td>-0.980817</td>\n",
       "      <td>-0.990482</td>\n",
       "      <td>-0.998321</td>\n",
       "      <td>-0.979672</td>\n",
       "      <td>-0.990441</td>\n",
       "      <td>-0.942469</td>\n",
       "      <td>...</td>\n",
       "      <td>0.123320</td>\n",
       "      <td>0.122542</td>\n",
       "      <td>0.693578</td>\n",
       "      <td>-0.615971</td>\n",
       "      <td>-0.847865</td>\n",
       "      <td>0.185151</td>\n",
       "      <td>-0.043892</td>\n",
       "      <td>1</td>\n",
       "      <td>5</td>\n",
       "      <td>STANDING</td>\n",
       "    </tr>\n",
       "  </tbody>\n",
       "</table>\n",
       "<p>5 rows × 564 columns</p>\n",
       "</div>"
      ],
      "text/plain": [
       "   1 tBodyAcc-mean()-X\\n  2 tBodyAcc-mean()-Y\\n  3 tBodyAcc-mean()-Z\\n  \\\n",
       "0               0.288585              -0.020294              -0.132905   \n",
       "1               0.278419              -0.016411              -0.123520   \n",
       "2               0.279653              -0.019467              -0.113462   \n",
       "3               0.279174              -0.026201              -0.123283   \n",
       "4               0.276629              -0.016570              -0.115362   \n",
       "\n",
       "   4 tBodyAcc-std()-X\\n  5 tBodyAcc-std()-Y\\n  6 tBodyAcc-std()-Z\\n  \\\n",
       "0             -0.995279             -0.983111             -0.913526   \n",
       "1             -0.998245             -0.975300             -0.960322   \n",
       "2             -0.995380             -0.967187             -0.978944   \n",
       "3             -0.996091             -0.983403             -0.990675   \n",
       "4             -0.998139             -0.980817             -0.990482   \n",
       "\n",
       "   7 tBodyAcc-mad()-X\\n  8 tBodyAcc-mad()-Y\\n  9 tBodyAcc-mad()-Z\\n  \\\n",
       "0             -0.995112             -0.983185             -0.923527   \n",
       "1             -0.998807             -0.974914             -0.957686   \n",
       "2             -0.996520             -0.963668             -0.977469   \n",
       "3             -0.997099             -0.982750             -0.989302   \n",
       "4             -0.998321             -0.979672             -0.990441   \n",
       "\n",
       "   10 tBodyAcc-max()-X\\n  ...  555 angle(tBodyAccMean,gravity)\\n  \\\n",
       "0              -0.934724  ...                          -0.112754   \n",
       "1              -0.943068  ...                           0.053477   \n",
       "2              -0.938692  ...                          -0.118559   \n",
       "3              -0.938692  ...                          -0.036788   \n",
       "4              -0.942469  ...                           0.123320   \n",
       "\n",
       "   556 angle(tBodyAccJerkMean),gravityMean)\\n  \\\n",
       "0                                    0.030400   \n",
       "1                                   -0.007435   \n",
       "2                                    0.177899   \n",
       "3                                   -0.012892   \n",
       "4                                    0.122542   \n",
       "\n",
       "   557 angle(tBodyGyroMean,gravityMean)\\n  \\\n",
       "0                               -0.464761   \n",
       "1                               -0.732626   \n",
       "2                                0.100699   \n",
       "3                                0.640011   \n",
       "4                                0.693578   \n",
       "\n",
       "   558 angle(tBodyGyroJerkMean,gravityMean)\\n  559 angle(X,gravityMean)\\n  \\\n",
       "0                                   -0.018446                   -0.841247   \n",
       "1                                    0.703511                   -0.844788   \n",
       "2                                    0.808529                   -0.848933   \n",
       "3                                   -0.485366                   -0.848649   \n",
       "4                                   -0.615971                   -0.847865   \n",
       "\n",
       "   560 angle(Y,gravityMean)\\n  561 angle(Z,gravityMean)\\n  Subject_Id  \\\n",
       "0                    0.179941                   -0.058627           1   \n",
       "1                    0.180289                   -0.054317           1   \n",
       "2                    0.180637                   -0.049118           1   \n",
       "3                    0.181935                   -0.047663           1   \n",
       "4                    0.185151                   -0.043892           1   \n",
       "\n",
       "   Activity     Label  \n",
       "0         5  STANDING  \n",
       "1         5  STANDING  \n",
       "2         5  STANDING  \n",
       "3         5  STANDING  \n",
       "4         5  STANDING  \n",
       "\n",
       "[5 rows x 564 columns]"
      ]
     },
     "execution_count": 4,
     "metadata": {},
     "output_type": "execute_result"
    }
   ],
   "source": [
    "#Training Dataframe\n",
    "train_path = \"Data/train\"\n",
    "train_df = prepare_df(train_path,\"train\")\n",
    "\n",
    "#Testing Dataframe\n",
    "test_path = \"Data/test\"\n",
    "test_df = prepare_df(test_path,\"test\")\n",
    "\n",
    "train_df.head()"
   ]
  },
  {
   "cell_type": "code",
   "execution_count": 5,
   "metadata": {},
   "outputs": [],
   "source": [
    "accuracy_record = pd.DataFrame(columns = [\"Model\", \"Accuracy\"])"
   ]
  },
  {
   "cell_type": "code",
   "execution_count": 6,
   "metadata": {},
   "outputs": [],
   "source": [
    "def eval_metric(model,test_y, y_pred):\n",
    "    global accuracy_record\n",
    "    \n",
    "    accuracy = accuracy_score(test_y, y_pred)\n",
    "    accuracy_record= accuracy_record.append(pd.DataFrame([[model, accuracy]], columns = [\"Model\", \"Accuracy\"]))\n",
    "       \n",
    "    print(classification_report(test_y, y_pred))\n",
    "    print(\"\\nAccuracy:\", accuracy)\n",
    "    print(\"\\nConfusion Matrix:\")\n",
    "    labels = [\"Walking\", \"Walking_Upstairs\", \"Walking_Downstairs\", \"Sitting\", \"Standing\", \"Laying\"]\n",
    "    confusion = confusion_matrix(test_y, y_pred)\n",
    "    sb.heatmap(confusion, cmap = \"Blues\", annot=True, fmt = '.2f', xticklabels = labels, yticklabels = labels)\n",
    "        \n",
    "    return accuracy"
   ]
  },
  {
   "cell_type": "markdown",
   "metadata": {},
   "source": [
    "__2. Benchmark Model__"
   ]
  },
  {
   "cell_type": "code",
   "execution_count": 7,
   "metadata": {},
   "outputs": [],
   "source": [
    "#Split the dataframe into x and y dataframes \n",
    "\n",
    "train_x= train_df.iloc[:,0:560]\n",
    "train_y= train_df[\"Activity\"]\n",
    "test_x= test_df.iloc[:,0:560]\n",
    "test_y= test_df[\"Activity\"] "
   ]
  },
  {
   "cell_type": "code",
   "execution_count": 8,
   "metadata": {},
   "outputs": [
    {
     "name": "stdout",
     "output_type": "stream",
     "text": [
      "              precision    recall  f1-score   support\n",
      "\n",
      "           1       0.84      0.92      0.88       496\n",
      "           2       0.84      0.77      0.80       471\n",
      "           3       0.85      0.83      0.84       420\n",
      "           4       0.83      0.78      0.80       491\n",
      "           5       0.81      0.85      0.83       532\n",
      "           6       1.00      1.00      1.00       537\n",
      "\n",
      "    accuracy                           0.86      2947\n",
      "   macro avg       0.86      0.86      0.86      2947\n",
      "weighted avg       0.86      0.86      0.86      2947\n",
      "\n",
      "\n",
      "Accuracy: 0.8625721072276892\n",
      "\n",
      "Confusion Matrix:\n"
     ]
    },
    {
     "data": {
      "image/png": "[encoded data removed]",
      "text/plain": [
       "<Figure size 432x288 with 2 Axes>"
      ]
     },
     "metadata": {},
     "output_type": "display_data"
    }
   ],
   "source": [
    "#Decision Trees Classifier\n",
    "\n",
    "model = \"Decision Tree Classifier\"\n",
    "benchmark = DecisionTreeClassifier()  #Initialize the model\n",
    "benchmark.fit(train_x, train_y)  #Fit the model to input data with 561 features\n",
    "\n",
    "y_pred= benchmark.predict(test_x)  #Predict activity labels \n",
    "\n",
    "#Calculate evaluation metrics\n",
    "accuracy = eval_metric(model,test_y, y_pred)\n"
   ]
  },
  {
   "cell_type": "markdown",
   "metadata": {},
   "source": [
    "__3. Feature Selection__"
   ]
  },
  {
   "cell_type": "code",
   "execution_count": 9,
   "metadata": {},
   "outputs": [
    {
     "name": "stdout",
     "output_type": "stream",
     "text": [
      "53 tGravityAcc-min()-X\\n                 0.240265\n",
      "394 fBodyAccJerk-bandsEnergy()-1,24\\n    0.202710\n",
      "560 angle(Y,gravityMean)\\n               0.132955\n",
      "509 fBodyAccMag-energy()\\n               0.109366\n",
      "75 tGravityAcc-arCoeff()-Z,2\\n           0.096493\n",
      "449 fBodyGyro-maxInds-X\\n                0.022702\n",
      "160 tBodyGyro-correlation()-Y,Z\\n        0.015639\n",
      "58 tGravityAcc-energy()-Y\\n              0.015564\n",
      "210 tBodyAccMag-arCoeff()1\\n             0.014908\n",
      "130 tBodyGyro-max()-X\\n                  0.008665\n",
      "276 fBodyAcc-max()-Y\\n                   0.008357\n",
      "54 tGravityAcc-min()-Y\\n                 0.007554\n",
      "38 tBodyAcc-correlation()-X,Y\\n          0.007002\n",
      "51 tGravityAcc-max()-Y\\n                 0.005957\n",
      "133 tBodyGyro-min()-X\\n                  0.005184\n",
      "433 fBodyGyro-max()-X\\n                  0.004969\n",
      "118 tBodyAccJerk-correlation()-X,Y\\n     0.003757\n",
      "170 tBodyGyroJerk-max()-X\\n              0.003287\n",
      "72 tGravityAcc-arCoeff()-Y,3\\n           0.002864\n",
      "52 tGravityAcc-max()-Z\\n                 0.002829\n",
      "dtype: float64\n"
     ]
    }
   ],
   "source": [
    "n_features=125 #picking number of features based on feature importance score>0\n",
    "\n",
    "#Extracting features based on impact on model\n",
    "feat_importances = pd.Series(benchmark.feature_importances_, index=train_x.columns)\n",
    "features = feat_importances.nlargest(n_features)\n",
    "print(features.head(20))\n",
    "\n",
    "feature_list= features.index.values.tolist()\n",
    "\n",
    "train_feat_x = train_x[feature_list]\n",
    "train_selected_df = pd.concat([train_feat_x, train_y], axis=1)\n",
    "\n",
    "test_feat_x = test_x[feature_list]"
   ]
  },
  {
   "cell_type": "markdown",
   "metadata": {},
   "source": [
    "__4. Implementing Supervised Learning Models__"
   ]
  },
  {
   "cell_type": "code",
   "execution_count": 10,
   "metadata": {},
   "outputs": [
    {
     "name": "stdout",
     "output_type": "stream",
     "text": [
      "              precision    recall  f1-score   support\n",
      "\n",
      "           1       0.87      0.95      0.91       496\n",
      "           2       0.86      0.87      0.86       471\n",
      "           3       0.98      0.86      0.91       420\n",
      "           4       0.89      0.85      0.87       491\n",
      "           5       0.87      0.90      0.88       532\n",
      "           6       1.00      1.00      1.00       537\n",
      "\n",
      "    accuracy                           0.91      2947\n",
      "   macro avg       0.91      0.91      0.91      2947\n",
      "weighted avg       0.91      0.91      0.91      2947\n",
      "\n",
      "\n",
      "Accuracy: 0.9083814048184594\n",
      "\n",
      "Confusion Matrix:\n"
     ]
    },
    {
     "data": {
      "image/png": "[encoded data removed]",
      "text/plain": [
       "<Figure size 432x288 with 2 Axes>"
      ]
     },
     "metadata": {},
     "output_type": "display_data"
    }
   ],
   "source": [
    "#Random Forest Classifier\n",
    "\n",
    "model = \"Random Forest Classifier\"\n",
    "rf=RandomForestClassifier(n_estimators=100)\n",
    "rf.fit(train_feat_x, train_y)\n",
    "\n",
    "y_pred = rf.predict(test_feat_x)\n",
    "\n",
    "accuracy = eval_metric(model,test_y, y_pred)"
   ]
  },
  {
   "cell_type": "code",
   "execution_count": 11,
   "metadata": {},
   "outputs": [
    {
     "name": "stderr",
     "output_type": "stream",
     "text": [
      "/home/ec2-user/anaconda3/envs/tensorflow_p36/lib/python3.6/site-packages/sklearn/svm/_base.py:947: ConvergenceWarning: Liblinear failed to converge, increase the number of iterations.\n",
      "  \"the number of iterations.\", ConvergenceWarning)\n"
     ]
    },
    {
     "name": "stdout",
     "output_type": "stream",
     "text": [
      "              precision    recall  f1-score   support\n",
      "\n",
      "           1       0.95      0.99      0.97       496\n",
      "           2       0.92      0.96      0.94       471\n",
      "           3       1.00      0.91      0.95       420\n",
      "           4       0.91      0.84      0.87       491\n",
      "           5       0.86      0.92      0.89       532\n",
      "           6       1.00      1.00      1.00       537\n",
      "\n",
      "    accuracy                           0.94      2947\n",
      "   macro avg       0.94      0.94      0.94      2947\n",
      "weighted avg       0.94      0.94      0.94      2947\n",
      "\n",
      "\n",
      "Accuracy: 0.9379029521547336\n",
      "\n",
      "Confusion Matrix:\n"
     ]
    },
    {
     "data": {
      "image/png": "[encoded data removed]",
      "text/plain": [
       "<Figure size 432x288 with 2 Axes>"
      ]
     },
     "metadata": {},
     "output_type": "display_data"
    }
   ],
   "source": [
    "#Linear SV Classifier\n",
    "\n",
    "model = \"Linear SVC\"\n",
    "svc = LinearSVC()\n",
    "svc.fit(train_feat_x, train_y)\n",
    "\n",
    "y_pred= svc.predict(test_feat_x)\n",
    "\n",
    "accuracy = eval_metric(model,test_y, y_pred)"
   ]
  },
  {
   "cell_type": "markdown",
   "metadata": {},
   "source": [
    "__5. Applying Deep Learning Model__"
   ]
  },
  {
   "cell_type": "code",
   "execution_count": 12,
   "metadata": {},
   "outputs": [],
   "source": [
    "# Load the input signals\n",
    "\n",
    "def load_signal(datatype):\n",
    "    signal_data = []\n",
    "    signal_list = [\"body_acc_x_\", \"body_acc_y_\", \"body_acc_z_\", \"body_gyro_x_\", \"body_gyro_y_\", \"body_gyro_z_\", \n",
    "                   \"total_acc_x_\", \"total_acc_y_\", \"total_acc_z_\"]\n",
    "    for signal in signal_list:\n",
    "        file = \"Data/\"+ datatype +\"/Inertial Signals/\"+ signal + datatype +\".txt\"\n",
    "        read_file = pd.read_csv(file, delim_whitespace = True, header = None)\n",
    "        signal_data.append((read_file).as_matrix())\n",
    "        \n",
    "    return np.transpose(signal_data, (1,2,0))"
   ]
  },
  {
   "cell_type": "code",
   "execution_count": 13,
   "metadata": {},
   "outputs": [],
   "source": [
    "def load_labels(datatype):\n",
    "    file = pd.read_csv((\"Data/\"+datatype+\"/y_\"+datatype+\".txt\"), delim_whitespace = True, header = None)\n",
    "    y = pd.get_dummies(file[0]).as_matrix()\n",
    "    \n",
    "    return y"
   ]
  },
  {
   "cell_type": "code",
   "execution_count": 14,
   "metadata": {},
   "outputs": [
    {
     "name": "stderr",
     "output_type": "stream",
     "text": [
      "/home/ec2-user/anaconda3/envs/tensorflow_p36/lib/python3.6/site-packages/ipykernel/__main__.py:10: FutureWarning: Method .as_matrix will be removed in a future version. Use .values instead.\n",
      "/home/ec2-user/anaconda3/envs/tensorflow_p36/lib/python3.6/site-packages/ipykernel/__main__.py:3: FutureWarning: Method .as_matrix will be removed in a future version. Use .values instead.\n",
      "  app.launch_new_instance()\n"
     ]
    }
   ],
   "source": [
    "x_train = load_signal(\"train\")\n",
    "y_train = load_labels(\"train\")\n",
    "x_test = load_signal(\"test\")\n",
    "y_test = load_labels(\"test\")"
   ]
  },
  {
   "cell_type": "code",
   "execution_count": 15,
   "metadata": {},
   "outputs": [
    {
     "name": "stdout",
     "output_type": "stream",
     "text": [
      "WARNING:tensorflow:From /home/ec2-user/anaconda3/envs/tensorflow_p36/lib/python3.6/site-packages/keras/backend/tensorflow_backend.py:74: The name tf.get_default_graph is deprecated. Please use tf.compat.v1.get_default_graph instead.\n",
      "\n",
      "WARNING:tensorflow:From /home/ec2-user/anaconda3/envs/tensorflow_p36/lib/python3.6/site-packages/keras/backend/tensorflow_backend.py:517: The name tf.placeholder is deprecated. Please use tf.compat.v1.placeholder instead.\n",
      "\n",
      "WARNING:tensorflow:From /home/ec2-user/anaconda3/envs/tensorflow_p36/lib/python3.6/site-packages/keras/backend/tensorflow_backend.py:4138: The name tf.random_uniform is deprecated. Please use tf.random.uniform instead.\n",
      "\n",
      "WARNING:tensorflow:From /home/ec2-user/anaconda3/envs/tensorflow_p36/lib/python3.6/site-packages/keras/backend/tensorflow_backend.py:133: The name tf.placeholder_with_default is deprecated. Please use tf.compat.v1.placeholder_with_default instead.\n",
      "\n",
      "WARNING:tensorflow:From /home/ec2-user/anaconda3/envs/tensorflow_p36/lib/python3.6/site-packages/keras/backend/tensorflow_backend.py:3445: calling dropout (from tensorflow.python.ops.nn_ops) with keep_prob is deprecated and will be removed in a future version.\n",
      "Instructions for updating:\n",
      "Please use `rate` instead of `keep_prob`. Rate should be set to `rate = 1 - keep_prob`.\n",
      "WARNING:tensorflow:From /home/ec2-user/anaconda3/envs/tensorflow_p36/lib/python3.6/site-packages/keras/optimizers.py:790: The name tf.train.Optimizer is deprecated. Please use tf.compat.v1.train.Optimizer instead.\n",
      "\n",
      "WARNING:tensorflow:From /home/ec2-user/anaconda3/envs/tensorflow_p36/lib/python3.6/site-packages/keras/backend/tensorflow_backend.py:3295: The name tf.log is deprecated. Please use tf.math.log instead.\n",
      "\n",
      "WARNING:tensorflow:From /home/ec2-user/anaconda3/envs/tensorflow_p36/lib/python3.6/site-packages/tensorflow_core/python/ops/math_grad.py:1424: where (from tensorflow.python.ops.array_ops) is deprecated and will be removed in a future version.\n",
      "Instructions for updating:\n",
      "Use tf.where in 2.0, which has the same broadcast rule as np.where\n",
      "WARNING:tensorflow:From /home/ec2-user/anaconda3/envs/tensorflow_p36/lib/python3.6/site-packages/keras/backend/tensorflow_backend.py:986: The name tf.assign_add is deprecated. Please use tf.compat.v1.assign_add instead.\n",
      "\n",
      "WARNING:tensorflow:From /home/ec2-user/anaconda3/envs/tensorflow_p36/lib/python3.6/site-packages/keras/backend/tensorflow_backend.py:973: The name tf.assign is deprecated. Please use tf.compat.v1.assign instead.\n",
      "\n",
      "WARNING:tensorflow:From /home/ec2-user/anaconda3/envs/tensorflow_p36/lib/python3.6/site-packages/keras/backend/tensorflow_backend.py:2741: The name tf.Session is deprecated. Please use tf.compat.v1.Session instead.\n",
      "\n",
      "Train on 7278 samples, validate on 74 samples\n",
      "Epoch 1/8\n",
      "WARNING:tensorflow:From /home/ec2-user/anaconda3/envs/tensorflow_p36/lib/python3.6/site-packages/keras/backend/tensorflow_backend.py:174: The name tf.get_default_session is deprecated. Please use tf.compat.v1.get_default_session instead.\n",
      "\n",
      "WARNING:tensorflow:From /home/ec2-user/anaconda3/envs/tensorflow_p36/lib/python3.6/site-packages/keras/backend/tensorflow_backend.py:184: The name tf.ConfigProto is deprecated. Please use tf.compat.v1.ConfigProto instead.\n",
      "\n",
      "WARNING:tensorflow:From /home/ec2-user/anaconda3/envs/tensorflow_p36/lib/python3.6/site-packages/keras/backend/tensorflow_backend.py:190: The name tf.global_variables is deprecated. Please use tf.compat.v1.global_variables instead.\n",
      "\n",
      "WARNING:tensorflow:From /home/ec2-user/anaconda3/envs/tensorflow_p36/lib/python3.6/site-packages/keras/backend/tensorflow_backend.py:199: The name tf.is_variable_initialized is deprecated. Please use tf.compat.v1.is_variable_initialized instead.\n",
      "\n",
      "WARNING:tensorflow:From /home/ec2-user/anaconda3/envs/tensorflow_p36/lib/python3.6/site-packages/keras/backend/tensorflow_backend.py:206: The name tf.variables_initializer is deprecated. Please use tf.compat.v1.variables_initializer instead.\n",
      "\n",
      " - 162s - loss: 1.3612 - acc: 0.4085 - val_loss: 1.5454 - val_acc: 0.3514\n",
      "Epoch 2/8\n",
      " - 157s - loss: 1.2915 - acc: 0.4261 - val_loss: 1.4233 - val_acc: 0.4054\n",
      "Epoch 3/8\n",
      " - 156s - loss: 1.1922 - acc: 0.4724 - val_loss: 1.4530 - val_acc: 0.4459\n",
      "Epoch 4/8\n",
      " - 156s - loss: 1.1180 - acc: 0.5106 - val_loss: 1.8202 - val_acc: 0.1351\n",
      "Epoch 5/8\n",
      " - 154s - loss: 1.0080 - acc: 0.5624 - val_loss: 1.1625 - val_acc: 0.4054\n",
      "Epoch 6/8\n",
      " - 156s - loss: 0.7840 - acc: 0.6195 - val_loss: 1.1243 - val_acc: 0.4054\n",
      "Epoch 7/8\n",
      " - 156s - loss: 0.7565 - acc: 0.6219 - val_loss: 1.1093 - val_acc: 0.4054\n",
      "Epoch 8/8\n",
      " - 156s - loss: 0.7142 - acc: 0.6407 - val_loss: 1.1114 - val_acc: 0.2162\n"
     ]
    }
   ],
   "source": [
    "#2-layer LSTM model\n",
    "\n",
    "epochs = 8\n",
    "batch_size = 32\n",
    "timesteps = x_train.shape[1]\n",
    "input_dim = len(x_train[0][0])\n",
    "n_classes = 6\n",
    "\n",
    "model = Sequential()\n",
    "\n",
    "model.add(LSTM(64, return_sequences = True, input_shape = (timesteps, input_dim)))\n",
    "model.add(Dropout(0.5))\n",
    "model.add(LSTM(64, return_sequences = False))\n",
    "model.add(Dropout(0.5))\n",
    "\n",
    "model.add(Dense(n_classes, activation='sigmoid'))\n",
    "\n",
    "model.compile(loss='categorical_crossentropy', metrics=['accuracy'], optimizer='adam')\n",
    "\n",
    "result = model.fit(x_train, y_train, batch_size = batch_size, epochs=epochs, verbose=2, validation_split=0.01)\n",
    "\n",
    "validation_acc = np.amax(result.history['val_acc'])\n",
    "\n",
    "trainPredict = model.predict(x_train)\n",
    "testPredict = model.predict(x_test)"
   ]
  },
  {
   "cell_type": "code",
   "execution_count": 16,
   "metadata": {},
   "outputs": [
    {
     "name": "stderr",
     "output_type": "stream",
     "text": [
      "/home/ec2-user/anaconda3/envs/tensorflow_p36/lib/python3.6/site-packages/sklearn/metrics/_classification.py:1272: UndefinedMetricWarning: Precision and F-score are ill-defined and being set to 0.0 in labels with no predicted samples. Use `zero_division` parameter to control this behavior.\n",
      "  _warn_prf(average, modifier, msg_start, len(result))\n",
      "/home/ec2-user/anaconda3/envs/tensorflow_p36/lib/python3.6/site-packages/sklearn/metrics/_classification.py:1272: UndefinedMetricWarning: Precision and F-score are ill-defined and being set to 0.0 in labels with no predicted samples. Use `zero_division` parameter to control this behavior.\n",
      "  _warn_prf(average, modifier, msg_start, len(result))\n",
      "/home/ec2-user/anaconda3/envs/tensorflow_p36/lib/python3.6/site-packages/sklearn/metrics/_classification.py:1272: UndefinedMetricWarning: Precision and F-score are ill-defined and being set to 0.0 in labels with no predicted samples. Use `zero_division` parameter to control this behavior.\n",
      "  _warn_prf(average, modifier, msg_start, len(result))\n"
     ]
    },
    {
     "name": "stdout",
     "output_type": "stream",
     "text": [
      "              precision    recall  f1-score   support\n",
      "\n",
      "           1       0.34      0.98      0.51       496\n",
      "           2       0.00      0.00      0.00       471\n",
      "           3       0.00      0.00      0.00       420\n",
      "           4       0.79      0.73      0.76       491\n",
      "           5       0.75      0.80      0.78       532\n",
      "           6       1.00      0.94      0.97       537\n",
      "\n",
      "    accuracy                           0.60      2947\n",
      "   macro avg       0.48      0.58      0.50      2947\n",
      "weighted avg       0.51      0.60      0.53      2947\n",
      "\n",
      "\n",
      "Accuracy: 0.6040040719375637\n",
      "\n",
      "Confusion Matrix:\n"
     ]
    },
    {
     "data": {
      "image/png": "[encoded data removed]",
      "text/plain": [
       "<Figure size 432x288 with 2 Axes>"
      ]
     },
     "metadata": {},
     "output_type": "display_data"
    }
   ],
   "source": [
    "model = \"LSTM\"\n",
    "true_labels = [np.argmax(i)+1 for i in y_test]\n",
    "predicted_labels = [np.argmax(i)+1 for i in testPredict]\n",
    "accuracy=eval_metric(model,true_labels, predicted_labels)"
   ]
  },
  {
   "cell_type": "code",
   "execution_count": 17,
   "metadata": {},
   "outputs": [
    {
     "name": "stdout",
     "output_type": "stream",
     "text": [
      "                      Model  Accuracy\n",
      "0  Decision Tree Classifier  0.862572\n",
      "1  Random Forest Classifier  0.908381\n",
      "2                Linear SVC  0.937903\n",
      "3                      LSTM  0.604004\n"
     ]
    }
   ],
   "source": [
    "accuracy_record.reset_index(drop=True, inplace=True)\n",
    "print(accuracy_record)"
   ]
  }
 ],
 "metadata": {
  "kernelspec": {
   "display_name": "conda_tensorflow_p36",
   "language": "python",
   "name": "conda_tensorflow_p36"
  },
  "language_info": {
   "codemirror_mode": {
    "name": "ipython",
    "version": 3
   },
   "file_extension": ".py",
   "mimetype": "text/x-python",
   "name": "python",
   "nbconvert_exporter": "python",
   "pygments_lexer": "ipython3",
   "version": "3.6.6"
  }
 },
 "nbformat": 4,
 "nbformat_minor": 4
}
